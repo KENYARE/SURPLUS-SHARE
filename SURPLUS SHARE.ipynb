{
 "cells": [
  {
   "cell_type": "markdown",
   "id": "2872091d-61b3-468e-98d1-3fd2c5e022fe",
   "metadata": {},
   "source": [
    "# SURPLUS SHARE TREATY"
   ]
  },
  {
   "cell_type": "markdown",
   "id": "63ea0d99-6422-4d84-b11f-b32350d6d855",
   "metadata": {},
   "source": [
    "Surplus share treaties are similar to quota share treaties, but the primary insurer cedes a fixed\n",
    "percentage of the amount of insurance that exceeds a specified retention level. \n",
    "\n",
    "This allows the insurer to retain a portion of the risk while passing on excess risk to the reinsurer."
   ]
  },
  {
   "cell_type": "markdown",
   "id": "1be13c53-1a12-4470-96ae-fac96bbcec76",
   "metadata": {},
   "source": [
    "We upload the required packages needed for the analysis:"
   ]
  },
  {
   "cell_type": "code",
   "execution_count": 1,
   "id": "2255b729-4680-44ba-9410-1c7feb3d27ed",
   "metadata": {},
   "outputs": [],
   "source": [
    "import numpy as np\n",
    "import scipy.stats as stats\n"
   ]
  },
  {
   "cell_type": "markdown",
   "id": "0b430d08-ad77-4b11-9a7a-bf15c21cb009",
   "metadata": {},
   "source": [
    "Simulation of our data takes place in respect to the time value of money, where the claims and the premiums are ascertained."
   ]
  },
  {
   "cell_type": "code",
   "execution_count": 2,
   "id": "241712aa-8c3b-4bfb-bec9-7a068226a1df",
   "metadata": {},
   "outputs": [],
   "source": [
    "def simulate_policy_data(policy_count, average_policy_premium, average_claim_loss):\n",
    "    np.random.seed(0)\n",
    "    policy_premiums = np.random.exponential(scale=average_policy_premium, size=policy_count)\n",
    "    claim_losses = np.random.exponential(scale=average_claim_loss, size=policy_count)\n",
    "    return policy_premiums, claim_losses"
   ]
  },
  {
   "cell_type": "markdown",
   "id": "afe58f35-1412-449f-b2c3-2de076e66e1d",
   "metadata": {},
   "source": [
    "Surplus share is ascertained on policy level"
   ]
  },
  {
   "cell_type": "code",
   "execution_count": 4,
   "id": "4cabad29-d097-474d-b97e-ca269f9e7456",
   "metadata": {},
   "outputs": [],
   "source": [
    "def calculate_surplus_share_retention(policy_premiums, surplus_share_percentage):\n",
    "    return np.percentile(policy_premiums, 100 * (1 - surplus_share_percentage))"
   ]
  },
  {
   "cell_type": "markdown",
   "id": "447ddae0-2052-4338-9201-7f3b546714ce",
   "metadata": {},
   "source": [
    "The excessive loss from policies is also attained, given the policy structure and claim losses"
   ]
  },
  {
   "cell_type": "code",
   "execution_count": 5,
   "id": "00784504-dfb9-4988-88fe-f1654aa92b94",
   "metadata": {},
   "outputs": [],
   "source": [
    "def identify_excess_loss_policies(policy_premiums, claim_losses, surplus_share_retention):\n",
    "    return claim_losses[policy_premiums > surplus_share_retention]"
   ]
  },
  {
   "cell_type": "markdown",
   "id": "3b80866c-c210-4a50-a758-e7196ba1d7e1",
   "metadata": {},
   "source": [
    "The Reinsurer liability is to attained with respect to the surplus share percentage "
   ]
  },
  {
   "cell_type": "code",
   "execution_count": 6,
   "id": "82bce0b0-151c-4372-bd32-3d3882ca6ffa",
   "metadata": {},
   "outputs": [],
   "source": [
    "def calculate_reinsurer_liability(excess_loss_policies, surplus_share_percentage):\n",
    "    return np.sum(excess_loss_policies) * surplus_share_percentage"
   ]
  },
  {
   "cell_type": "markdown",
   "id": "571898b9-7f45-40f0-b20f-196def421b75",
   "metadata": {},
   "source": [
    "Value At Risk and Confidence Tail Expectation is to be defined for calculation of the needed files"
   ]
  },
  {
   "cell_type": "code",
   "execution_count": 7,
   "id": "b00fefa1-1c89-4ac7-a398-6f9e96eaa816",
   "metadata": {},
   "outputs": [],
   "source": [
    "def calculate_var_and_cte(excess_loss_policies, confidence_level):\n",
    "    excess_loss_sorted = np.sort(excess_loss_policies)\n",
    "    var_index = int(len(excess_loss_sorted) * (1 - confidence_level))\n",
    "    var = excess_loss_sorted[var_index]\n",
    "    cte = np.mean(excess_loss_sorted[:var_index])\n",
    "    return var, cte\n"
   ]
  },
  {
   "cell_type": "markdown",
   "id": "90f92952-141c-436c-ad66-97a9bd77811a",
   "metadata": {},
   "source": [
    "Data is defined as per the  data set that is needed per confidence level and surplus share level which is defined."
   ]
  },
  {
   "cell_type": "code",
   "execution_count": 8,
   "id": "45a7ba7b-ceea-4505-8a59-81fe206b3307",
   "metadata": {},
   "outputs": [],
   "source": [
    "# Input data\n",
    "policy_count = 1000\n",
    "average_policy_premium = 10000\n",
    "average_claim_loss = 5000\n",
    "surplus_share_percentage = 0.2\n",
    "confidence_level = 0.95"
   ]
  },
  {
   "cell_type": "markdown",
   "id": "bd79d82b-879e-470d-bb67-b4092f5fc008",
   "metadata": {},
   "source": [
    "Next we simulate the policy data "
   ]
  },
  {
   "cell_type": "code",
   "execution_count": 9,
   "id": "07081706-9f8c-4e85-ab5a-db39be8d04e9",
   "metadata": {},
   "outputs": [],
   "source": [
    "# Simulate policy data\n",
    "policy_premiums, claim_losses = simulate_policy_data(policy_count, average_policy_premium, average_claim_loss)"
   ]
  },
  {
   "cell_type": "markdown",
   "id": "36a28d63-6155-4769-95b6-944d07674140",
   "metadata": {},
   "source": [
    "Surplus Share retention is calculated with reference to the share percentage "
   ]
  },
  {
   "cell_type": "code",
   "execution_count": 10,
   "id": "31781aff-e54b-49b6-9dbc-6ea6d488cd28",
   "metadata": {},
   "outputs": [],
   "source": [
    "# Calculate surplus share retention\n",
    "surplus_share_retention = calculate_surplus_share_retention(policy_premiums, surplus_share_percentage)"
   ]
  },
  {
   "cell_type": "markdown",
   "id": "23fc959c-3444-49dd-8bdd-15369cabf6a6",
   "metadata": {},
   "source": [
    "The excess loss policies are to be identified in order to attain the quantity of policies that are loss making and exceed the retention "
   ]
  },
  {
   "cell_type": "code",
   "execution_count": 11,
   "id": "33ca5baa-027e-4155-9e80-76d55b45c1a9",
   "metadata": {},
   "outputs": [],
   "source": [
    "# Identify excess loss policies\n",
    "excess_loss_policies = identify_excess_loss_policies(policy_premiums, claim_losses, surplus_share_retention)"
   ]
  },
  {
   "cell_type": "markdown",
   "id": "e5b99e4b-9fb4-4674-928d-0b04ec93c616",
   "metadata": {},
   "source": [
    "The reinsurer liability is what is assesed next, to attain the financial position of the reinsurer."
   ]
  },
  {
   "cell_type": "code",
   "execution_count": 12,
   "id": "ab36736f-0ce4-4602-a0ce-c2cd4228c6b8",
   "metadata": {},
   "outputs": [],
   "source": [
    "# Calculate reinsurer liability\n",
    "reinsurer_liability = calculate_reinsurer_liability(excess_loss_policies, surplus_share_percentage)"
   ]
  },
  {
   "cell_type": "markdown",
   "id": "a07b73e7-0b2e-4050-ba87-1721c82c1c5c",
   "metadata": {},
   "source": [
    "The VaR and CTE is to be ascertained and defined with reference to the confidence level"
   ]
  },
  {
   "cell_type": "code",
   "execution_count": 13,
   "id": "53a20a50-b495-4120-afa8-a68cfbd71683",
   "metadata": {},
   "outputs": [],
   "source": [
    "# Calculate Value at Risk (VaR) and Conditional Tail Expectation (CTE)\n",
    "var, cte = calculate_var_and_cte(excess_loss_policies, confidence_level)"
   ]
  },
  {
   "cell_type": "markdown",
   "id": "5c76b72d-bf74-444d-801f-e4c315c26e00",
   "metadata": {},
   "source": [
    "Lastly the results are displayed"
   ]
  },
  {
   "cell_type": "code",
   "execution_count": 14,
   "id": "dc9cfe1e-3f37-48bf-9e06-74926b1fe7cb",
   "metadata": {},
   "outputs": [
    {
     "name": "stdout",
     "output_type": "stream",
     "text": [
      "Surplus Share Retention: $16,420.62\n",
      "Reinsurer Liability: $214,255.35\n",
      "Value at Risk (VaR) at 95.0%: $217.09\n",
      "Conditional Tail Expectation (CTE) at 95.0%: $110.87\n"
     ]
    }
   ],
   "source": [
    "# Print results\n",
    "print(f\"Surplus Share Retention: ${surplus_share_retention:,.2f}\")\n",
    "print(f\"Reinsurer Liability: ${reinsurer_liability:,.2f}\")\n",
    "print(f\"Value at Risk (VaR) at {confidence_level * 100}%: ${var:,.2f}\")\n",
    "print(f\"Conditional Tail Expectation (CTE) at {confidence_level * 100}%: ${cte:,.2f}\")"
   ]
  },
  {
   "cell_type": "markdown",
   "id": "2f1be9b4-b4e5-4eee-a493-90fc4087f5f0",
   "metadata": {},
   "source": [
    "# 85% CONFIDENCE INTERVAL"
   ]
  },
  {
   "cell_type": "code",
   "execution_count": 15,
   "id": "b727553b-ad9f-466d-b0de-3f53b9a8ec9b",
   "metadata": {},
   "outputs": [],
   "source": [
    "def simulate_policy_data(policy_count, average_policy_premium, average_claim_loss):\n",
    "    np.random.seed(0)\n",
    "    policy_premiums = np.random.exponential(scale=average_policy_premium, size=policy_count)\n",
    "    claim_losses = np.random.exponential(scale=average_claim_loss, size=policy_count)\n",
    "    return policy_premiums, claim_losses"
   ]
  },
  {
   "cell_type": "code",
   "execution_count": 16,
   "id": "41ec5e84-8d9e-43df-8fc5-ed8619fb04fb",
   "metadata": {},
   "outputs": [],
   "source": [
    "def calculate_surplus_share_retention(policy_premiums, surplus_share_percentage):\n",
    "    return np.percentile(policy_premiums, 100 * (1 - surplus_share_percentage))"
   ]
  },
  {
   "cell_type": "code",
   "execution_count": 17,
   "id": "7904fd7c-1c45-4c13-a70e-a29fb4bf58cf",
   "metadata": {},
   "outputs": [],
   "source": [
    "def identify_excess_loss_policies(policy_premiums, claim_losses, surplus_share_retention):\n",
    "    return claim_losses[policy_premiums > surplus_share_retention]"
   ]
  },
  {
   "cell_type": "code",
   "execution_count": 18,
   "id": "a8df1d7d-d173-441d-9c76-1239f2523b8c",
   "metadata": {},
   "outputs": [],
   "source": [
    "def calculate_reinsurer_liability(excess_loss_policies, surplus_share_percentage):\n",
    "    return np.sum(excess_loss_policies) * surplus_share_percentage"
   ]
  },
  {
   "cell_type": "code",
   "execution_count": 19,
   "id": "8c6f162a-9d02-44cb-a6e3-578a0ee55935",
   "metadata": {},
   "outputs": [],
   "source": [
    "def calculate_var_and_cte(excess_loss_policies, confidence_level):\n",
    "    excess_loss_sorted = np.sort(excess_loss_policies)\n",
    "    var_index = int(len(excess_loss_sorted) * (1 - confidence_level))\n",
    "    var = excess_loss_sorted[var_index]\n",
    "    cte = np.mean(excess_loss_sorted[:var_index])\n",
    "    return var, cte"
   ]
  },
  {
   "cell_type": "code",
   "execution_count": 20,
   "id": "31f24382-96d5-41b8-84e3-0c2e9b8a9530",
   "metadata": {},
   "outputs": [],
   "source": [
    "# Input data\n",
    "policy_count = 1000\n",
    "average_policy_premium = 10000\n",
    "average_claim_loss = 5000\n",
    "surplus_share_percentage = 0.2\n",
    "confidence_level = 0.85"
   ]
  },
  {
   "cell_type": "code",
   "execution_count": 21,
   "id": "05a885bc-5337-4840-afe9-1ad7aeb80351",
   "metadata": {},
   "outputs": [],
   "source": [
    "# Simulate policy data\n",
    "policy_premiums, claim_losses = simulate_policy_data(policy_count, average_policy_premium, average_claim_loss)"
   ]
  },
  {
   "cell_type": "code",
   "execution_count": 22,
   "id": "038cf1e3-d764-4e61-9306-474657c91cef",
   "metadata": {},
   "outputs": [],
   "source": [
    "# Calculate surplus share retention\n",
    "surplus_share_retention = calculate_surplus_share_retention(policy_premiums, surplus_share_percentage)"
   ]
  },
  {
   "cell_type": "code",
   "execution_count": 23,
   "id": "474ed14b-793b-4bbc-bcce-5f8446c5de9b",
   "metadata": {},
   "outputs": [],
   "source": [
    "# Identify excess loss policies\n",
    "excess_loss_policies = identify_excess_loss_policies(policy_premiums, claim_losses, surplus_share_retention)"
   ]
  },
  {
   "cell_type": "code",
   "execution_count": 24,
   "id": "3c1e150c-6591-4091-bacd-db3f8fb522e6",
   "metadata": {},
   "outputs": [],
   "source": [
    "# Calculate reinsurer liability\n",
    "reinsurer_liability = calculate_reinsurer_liability(excess_loss_policies, surplus_share_percentage)"
   ]
  },
  {
   "cell_type": "code",
   "execution_count": 25,
   "id": "089a3fd4-33f7-4509-9b6c-3f36f9ef5d5c",
   "metadata": {},
   "outputs": [],
   "source": [
    "# Calculate Value at Risk (VaR) and Conditional Tail Expectation (CTE)\n",
    "var, cte = calculate_var_and_cte(excess_loss_policies, confidence_level)"
   ]
  },
  {
   "cell_type": "code",
   "execution_count": 26,
   "id": "7ce2abce-11c9-48b1-9314-ff05e5de065e",
   "metadata": {},
   "outputs": [
    {
     "name": "stdout",
     "output_type": "stream",
     "text": [
      "Surplus Share Retention: $16,420.62\n",
      "Reinsurer Liability: $214,255.35\n",
      "Value at Risk (VaR) at 85.0%: $792.54\n",
      "Conditional Tail Expectation (CTE) at 85.0%: $376.31\n"
     ]
    }
   ],
   "source": [
    "# Print results\n",
    "print(f\"Surplus Share Retention: ${surplus_share_retention:,.2f}\")\n",
    "print(f\"Reinsurer Liability: ${reinsurer_liability:,.2f}\")\n",
    "print(f\"Value at Risk (VaR) at {confidence_level * 100}%: ${var:,.2f}\")\n",
    "print(f\"Conditional Tail Expectation (CTE) at {confidence_level * 100}%: ${cte:,.2f}\")"
   ]
  },
  {
   "cell_type": "markdown",
   "id": "eec953d9-1572-4b69-a3d5-7454df999657",
   "metadata": {},
   "source": [
    "# 75% CONFIDENCE INTERVAL"
   ]
  },
  {
   "cell_type": "code",
   "execution_count": 27,
   "id": "a8fc8e70-6ace-4123-bc66-3aeda7499ee6",
   "metadata": {},
   "outputs": [],
   "source": [
    "def simulate_policy_data(policy_count, average_policy_premium, average_claim_loss):\n",
    "    np.random.seed(0)\n",
    "    policy_premiums = np.random.exponential(scale=average_policy_premium, size=policy_count)\n",
    "    claim_losses = np.random.exponential(scale=average_claim_loss, size=policy_count)\n",
    "    return policy_premiums, claim_losses"
   ]
  },
  {
   "cell_type": "code",
   "execution_count": 28,
   "id": "3697de47-e348-4f38-868b-9993829403cb",
   "metadata": {},
   "outputs": [],
   "source": [
    "def calculate_surplus_share_retention(policy_premiums, surplus_share_percentage):\n",
    "    return np.percentile(policy_premiums, 100 * (1 - surplus_share_percentage))"
   ]
  },
  {
   "cell_type": "code",
   "execution_count": 29,
   "id": "e08e4c79-77cb-4707-b4fc-d61b44722117",
   "metadata": {},
   "outputs": [],
   "source": [
    "def identify_excess_loss_policies(policy_premiums, claim_losses, surplus_share_retention):\n",
    "    return claim_losses[policy_premiums > surplus_share_retention]"
   ]
  },
  {
   "cell_type": "code",
   "execution_count": 30,
   "id": "2137c312-8dbd-4aa3-8a03-14930ac735fb",
   "metadata": {},
   "outputs": [],
   "source": [
    "def calculate_reinsurer_liability(excess_loss_policies, surplus_share_percentage):\n",
    "    return np.sum(excess_loss_policies) * surplus_share_percentage"
   ]
  },
  {
   "cell_type": "code",
   "execution_count": 31,
   "id": "5fecc5c4-8761-4ce3-92f2-29767562ae36",
   "metadata": {},
   "outputs": [],
   "source": [
    "def calculate_var_and_cte(excess_loss_policies, confidence_level):\n",
    "    excess_loss_sorted = np.sort(excess_loss_policies)\n",
    "    var_index = int(len(excess_loss_sorted) * (1 - confidence_level))\n",
    "    var = excess_loss_sorted[var_index]\n",
    "    cte = np.mean(excess_loss_sorted[:var_index])\n",
    "    return var, cte"
   ]
  },
  {
   "cell_type": "code",
   "execution_count": 32,
   "id": "315faa35-52ab-48f8-88c5-bd5a4ff1b927",
   "metadata": {},
   "outputs": [],
   "source": [
    "# Input data\n",
    "policy_count = 1000\n",
    "average_policy_premium = 10000\n",
    "average_claim_loss = 5000\n",
    "surplus_share_percentage = 0.2\n",
    "confidence_level = 0.75"
   ]
  },
  {
   "cell_type": "code",
   "execution_count": 33,
   "id": "22a9369a-685e-4453-97b0-43954e10a22d",
   "metadata": {},
   "outputs": [],
   "source": [
    "# Simulate policy data\n",
    "policy_premiums, claim_losses = simulate_policy_data(policy_count, average_policy_premium, average_claim_loss)"
   ]
  },
  {
   "cell_type": "code",
   "execution_count": 34,
   "id": "7dd235c3-6735-4d5d-9001-ff3f13caca5b",
   "metadata": {},
   "outputs": [],
   "source": [
    "# Calculate surplus share retention\n",
    "surplus_share_retention = calculate_surplus_share_retention(policy_premiums, surplus_share_percentage)"
   ]
  },
  {
   "cell_type": "code",
   "execution_count": 35,
   "id": "a2337598-5c3d-4315-952c-7345a1929ad5",
   "metadata": {},
   "outputs": [],
   "source": [
    "# Identify excess loss policies\n",
    "excess_loss_policies = identify_excess_loss_policies(policy_premiums, claim_losses, surplus_share_retention)"
   ]
  },
  {
   "cell_type": "code",
   "execution_count": 36,
   "id": "f8d18199-d253-4ec3-93e5-35981c6662c1",
   "metadata": {},
   "outputs": [],
   "source": [
    "# Calculate reinsurer liability\n",
    "reinsurer_liability = calculate_reinsurer_liability(excess_loss_policies, surplus_share_percentage)"
   ]
  },
  {
   "cell_type": "code",
   "execution_count": 37,
   "id": "9d1e880a-54a4-4869-8d85-49bde883646d",
   "metadata": {},
   "outputs": [],
   "source": [
    "# Calculate Value at Risk (VaR) and Conditional Tail Expectation (CTE)\n",
    "var, cte = calculate_var_and_cte(excess_loss_policies, confidence_level)"
   ]
  },
  {
   "cell_type": "code",
   "execution_count": 38,
   "id": "5589133f-b73b-43a6-b592-983f9e599a86",
   "metadata": {},
   "outputs": [
    {
     "name": "stdout",
     "output_type": "stream",
     "text": [
      "Surplus Share Retention: $16,420.62\n",
      "Reinsurer Liability: $214,255.35\n",
      "Value at Risk (VaR) at 75.0%: $1,596.54\n",
      "Conditional Tail Expectation (CTE) at 75.0%: $694.48\n"
     ]
    }
   ],
   "source": [
    "# Print results\n",
    "print(f\"Surplus Share Retention: ${surplus_share_retention:,.2f}\")\n",
    "print(f\"Reinsurer Liability: ${reinsurer_liability:,.2f}\")\n",
    "print(f\"Value at Risk (VaR) at {confidence_level * 100}%: ${var:,.2f}\")\n",
    "print(f\"Conditional Tail Expectation (CTE) at {confidence_level * 100}%: ${cte:,.2f}\")"
   ]
  },
  {
   "cell_type": "markdown",
   "id": "fa7bb0a1-636d-4607-8963-262f1befa2b9",
   "metadata": {},
   "source": [
    "# ANALYSIS"
   ]
  },
  {
   "cell_type": "markdown",
   "id": "de41165b-bd2c-4dca-8a7b-b0c6e75a390e",
   "metadata": {},
   "source": [
    "# At 95% we attained the below output:"
   ]
  },
  {
   "cell_type": "markdown",
   "id": "fb45c201-7530-4135-9950-447947e8c05c",
   "metadata": {},
   "source": [
    "Surplus Share Retention: $16,420.62\n",
    "\n",
    "Reinsurer Liability: $214,255.35\n",
    "\n",
    "Value at Risk (VaR) at 95.0%: $217.09\n",
    "\n",
    "Conditional Tail Expectation (CTE) at 95.0%: $110.87"
   ]
  },
  {
   "cell_type": "markdown",
   "id": "67a5af49-cfde-4b2a-ba57-f05cfa342059",
   "metadata": {},
   "source": [
    "# At 85% we attain the below :"
   ]
  },
  {
   "cell_type": "markdown",
   "id": "44f9bf9f-dfc8-441a-8f2e-ab0512bad805",
   "metadata": {},
   "source": [
    "Surplus Share Retention: $16,420.62\n",
    "\n",
    "Reinsurer Liability: $214,255.35\n",
    "\n",
    "Value at Risk (VaR) at 85.0%: $792.54\n",
    "\n",
    "Conditional Tail Expectation (CTE) at 85.0%: $376.31"
   ]
  },
  {
   "cell_type": "markdown",
   "id": "a98f84a6-c967-4732-8013-ff609c2799f1",
   "metadata": {},
   "source": [
    "# At 75%, the below is attained: "
   ]
  },
  {
   "cell_type": "markdown",
   "id": "bc5e2428-3b31-4319-ad04-020e954a8139",
   "metadata": {},
   "source": [
    "Surplus Share Retention: $16,420.62\n",
    "\n",
    "Reinsurer Liability: $214,255.35\n",
    "\n",
    "Value at Risk (VaR) at 75.0%: $1,596.54\n",
    "\n",
    "Conditional Tail Expectation (CTE) at 75.0%: $694.48"
   ]
  },
  {
   "cell_type": "raw",
   "id": "d80d034b-3904-40c2-bbf4-7d5d5a67bc55",
   "metadata": {},
   "source": [
    "# Key recommendation"
   ]
  },
  {
   "cell_type": "markdown",
   "id": "69b4cce9-fb38-4a34-ba8c-22078a322e80",
   "metadata": {},
   "source": [
    "Given the above analysis, with reference to the confidence intervals of 0.95, 0.85 and 0.75, we are attaining\n",
    "\n",
    "that at the 95% C.I the VaR,that our loss does not  exceed the amount of $ 217 which is best suite for our pricing model.\n",
    "\n",
    "At the pricing model of 95%, we attain an optimal solution that necessitates that our liqiudity per portfolio is not affected, subject to the liabilities."
   ]
  },
  {
   "cell_type": "code",
   "execution_count": null,
   "id": "dbd268f4-18c7-44e1-ae10-21494bb926e1",
   "metadata": {},
   "outputs": [],
   "source": []
  }
 ],
 "metadata": {
  "kernelspec": {
   "display_name": "Python 3 (ipykernel)",
   "language": "python",
   "name": "python3"
  },
  "language_info": {
   "codemirror_mode": {
    "name": "ipython",
    "version": 3
   },
   "file_extension": ".py",
   "mimetype": "text/x-python",
   "name": "python",
   "nbconvert_exporter": "python",
   "pygments_lexer": "ipython3",
   "version": "3.11.4"
  }
 },
 "nbformat": 4,
 "nbformat_minor": 5
}
